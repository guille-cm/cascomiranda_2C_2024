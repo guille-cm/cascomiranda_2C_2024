{
  "cells": [
    {
      "cell_type": "markdown",
      "metadata": {
        "id": "view-in-github",
        "colab_type": "text"
      },
      "source": [
        "<a href=\"https://colab.research.google.com/github/guille-cm/cascomiranda_2C_2024/blob/main/STeP_4_sem_3.ipynb\" target=\"_parent\"><img src=\"https://colab.research.google.com/assets/colab-badge.svg\" alt=\"Open In Colab\"/></a>"
      ]
    },
    {
      "cell_type": "markdown",
      "metadata": {
        "id": "LRbo7swxqkMa"
      },
      "source": [
        "# Solución STEP 4 - SEM 3"
      ]
    },
    {
      "cell_type": "code",
      "execution_count": null,
      "metadata": {
        "id": "P8LmupBhqkMc"
      },
      "outputs": [],
      "source": [
        "import sympy as sp"
      ]
    },
    {
      "cell_type": "markdown",
      "metadata": {
        "id": "sSO-ssOUqkMd"
      },
      "source": [
        "### CIRCUITO RLC"
      ]
    },
    {
      "cell_type": "markdown",
      "metadata": {
        "id": "_rdckf5DqkMd"
      },
      "source": [
        "MODELO DE CARGA\n",
        "\n",
        "$V =L Q''(t)+  R Q'(t) + (1/C) Q(t)$\n",
        "\n",
        "$Q(0)=0$\n",
        "$I(0)=0$\n"
      ]
    },
    {
      "cell_type": "code",
      "execution_count": null,
      "metadata": {
        "id": "YCpcc9jjqkMd"
      },
      "outputs": [],
      "source": [
        "t, R, C, V, L = sp.symbols('t, R, C, V, L')\n",
        "Q = sp.Function('Q')#define una función respecto del tiempo"
      ]
    },
    {
      "cell_type": "code",
      "execution_count": null,
      "metadata": {
        "id": "n2f8JwLqqkMd"
      },
      "outputs": [],
      "source": [
        "edo = sp.Eq(V,L*sp.Derivative(Q(t),t,t)+R*sp.Derivative(Q(t),t)+ 1/C*Q(t))"
      ]
    },
    {
      "cell_type": "code",
      "execution_count": null,
      "metadata": {
        "id": "ors-VUcNqkMd"
      },
      "outputs": [],
      "source": [
        "edo_sol = sp.dsolve(edo)"
      ]
    },
    {
      "cell_type": "code",
      "execution_count": null,
      "metadata": {
        "id": "i0WufREGqkMe",
        "scrolled": false
      },
      "outputs": [],
      "source": [
        "display(edo_sol)"
      ]
    },
    {
      "cell_type": "markdown",
      "metadata": {
        "id": "w9UGWhWuqkMe"
      },
      "source": [
        "##### Aplicando condiciones iniciales"
      ]
    },
    {
      "cell_type": "code",
      "execution_count": null,
      "metadata": {
        "id": "QDf8UH_XqkMf"
      },
      "outputs": [],
      "source": [
        "CI = {Q(0): 0,Q(t).diff(t).subs(t,0):0} # se crea un diccionario con las condiciones inciales"
      ]
    },
    {
      "cell_type": "code",
      "execution_count": null,
      "metadata": {
        "id": "nTKlJ78-qkMf"
      },
      "outputs": [],
      "source": [
        "edo_sol_part = sp.dsolve(edo,ics=CI)"
      ]
    },
    {
      "cell_type": "code",
      "execution_count": null,
      "metadata": {
        "id": "bYuw96lgqkMg"
      },
      "outputs": [],
      "source": [
        "display(edo_sol_part)"
      ]
    },
    {
      "cell_type": "markdown",
      "metadata": {
        "id": "Ul2gzL72qkMg"
      },
      "source": [
        "MODELO DESCARGA\n",
        "\n",
        "$0 = L Q''(t)+ R Q'(t)+(1/C) Q(t)$\n",
        "\n",
        "$Q(0)=q_0$\n",
        "$I(0)=0$"
      ]
    },
    {
      "cell_type": "code",
      "execution_count": null,
      "metadata": {
        "id": "WirOBbdnqkMg"
      },
      "outputs": [],
      "source": [
        "t, R, C, L, q_0= sp.symbols('t, R, C, L, q_0')\n",
        "Q = sp.Function('Q') #define una función respecto del tiempo"
      ]
    },
    {
      "cell_type": "code",
      "execution_count": null,
      "metadata": {
        "id": "AL4uDPcTqkMg"
      },
      "outputs": [],
      "source": [
        "edo = sp.Eq(0,L*sp.Derivative(Q(t),t,t)+R*sp.Derivative(Q(t),t)+ 1/C*Q(t))"
      ]
    },
    {
      "cell_type": "code",
      "execution_count": null,
      "metadata": {
        "id": "E-krlS8YqkMi"
      },
      "outputs": [],
      "source": [
        "edo_sol = sp.dsolve(edo)"
      ]
    },
    {
      "cell_type": "code",
      "execution_count": null,
      "metadata": {
        "id": "HMVKb7QsqkMi",
        "scrolled": true
      },
      "outputs": [],
      "source": [
        "display(edo_sol)"
      ]
    },
    {
      "cell_type": "markdown",
      "metadata": {
        "id": "6nwxriVvqkMi"
      },
      "source": [
        "##### Aplicando condiciones iniciales"
      ]
    },
    {
      "cell_type": "code",
      "execution_count": null,
      "metadata": {
        "id": "Nx75OBDoqkMi"
      },
      "outputs": [],
      "source": [
        "CI = {Q(0): C,Q(t).diff(t).subs(t,0):0} # se crea un diccionario con las condiciones inciales"
      ]
    },
    {
      "cell_type": "code",
      "execution_count": null,
      "metadata": {
        "id": "3BeKyOpeqkMj"
      },
      "outputs": [],
      "source": [
        "edo_sol_part = sp.dsolve(edo,ics=CI) # resuelve al edo con condiciones inciales"
      ]
    },
    {
      "cell_type": "code",
      "execution_count": null,
      "metadata": {
        "id": "VHfraNZlqkMj"
      },
      "outputs": [],
      "source": [
        "display(edo_sol_part)"
      ]
    },
    {
      "cell_type": "markdown",
      "metadata": {
        "id": "594J-pScqkMj"
      },
      "source": [
        "### Actividad 2: Experiencia de Laboratorio con el circuito"
      ]
    },
    {
      "cell_type": "markdown",
      "source": [
        "<img src='https://drive.google.com/uc?id=1-a0oKdvywybTSK0HLdTI7Pmeszx-D1ET'\n",
        "width=\"500\"\n",
        "height=\"400\" >"
      ],
      "metadata": {
        "id": "U9r4eBme_7Id"
      }
    },
    {
      "cell_type": "code",
      "execution_count": null,
      "metadata": {
        "id": "5XGVE-I_qkMj"
      },
      "outputs": [],
      "source": [
        "#PARAMETROS\n",
        "R = #es variable\n",
        "v = #...\n",
        "C = #...\n",
        "L = #..."
      ]
    },
    {
      "cell_type": "code",
      "execution_count": null,
      "metadata": {
        "id": "xgBJ7xg1qkMj"
      },
      "outputs": [],
      "source": [
        "t= ... # Defino la variable independiente\n",
        "Q = ... # Defino una función respecto del tiempo"
      ]
    },
    {
      "cell_type": "markdown",
      "metadata": {
        "id": "Db4lYXLYqkMj"
      },
      "source": [
        "Considere tres valores diferentes de R, que se consiguen dejando el potenciometro en diferentes lugares."
      ]
    },
    {
      "cell_type": "code",
      "execution_count": null,
      "metadata": {
        "id": "Cs4uikGRqkMj"
      },
      "outputs": [],
      "source": [
        "R = ..."
      ]
    },
    {
      "cell_type": "code",
      "execution_count": null,
      "metadata": {
        "id": "z8CthMO1qkMj"
      },
      "outputs": [],
      "source": [
        "edoCARGA = ... # Definimos la EDO\n",
        "\n",
        "CI = ... # se crea un diccionario con las condiciones inciales\n",
        "\n",
        "edo_sol_part_carga = ... # resuelve al edo con condiciones inciales\n",
        "\n",
        "display(edo_sol_part_carga)"
      ]
    },
    {
      "cell_type": "code",
      "execution_count": null,
      "metadata": {
        "id": "JJrGs-ODqkMj",
        "scrolled": true
      },
      "outputs": [],
      "source": [
        "sp.plot(edo_sol_part_carga.rhs, (t, 0, 0.007),ylabel = 'Q(t)' , xlabel ='t' )"
      ]
    },
    {
      "cell_type": "code",
      "execution_count": null,
      "metadata": {
        "id": "PHt5n1rtqkMk",
        "colab": {
          "base_uri": "https://localhost:8080/",
          "height": 108
        },
        "outputId": "9493946f-8658-4a99-a3c3-496b8d19e0a0"
      },
      "outputs": [
        {
          "output_type": "error",
          "ename": "SyntaxError",
          "evalue": "invalid syntax (<ipython-input-1-771411eecc79>, line 3)",
          "traceback": [
            "\u001b[0;36m  File \u001b[0;32m\"<ipython-input-1-771411eecc79>\"\u001b[0;36m, line \u001b[0;32m3\u001b[0m\n\u001b[0;31m    Q_T= # Definir la Carga Inicial del Capacitor\u001b[0m\n\u001b[0m         ^\u001b[0m\n\u001b[0;31mSyntaxError\u001b[0m\u001b[0;31m:\u001b[0m invalid syntax\n"
          ]
        }
      ],
      "source": [
        "edoDESCARGA = ... # Definimos la EDO\n",
        "\n",
        "Q_T= ... # Definir la Carga Inicial del Capacitor\n",
        "\n",
        "CI = ... # se crea un diccionario con las condiciones inciales\n",
        "\n",
        "edo_sol_part_descarga = sp.dsolve(odeDESCARGA,ics=CI) # resuelve al edo con condiciones inciales\n",
        "\n",
        "display(edo_sol_part_descarga)"
      ]
    },
    {
      "cell_type": "code",
      "execution_count": null,
      "metadata": {
        "id": "8Gnlbh02qkMk",
        "scrolled": true
      },
      "outputs": [],
      "source": [
        "# Grafica de la Solución"
      ]
    },
    {
      "cell_type": "markdown",
      "metadata": {
        "id": "0ovHvVxTqkMk"
      },
      "source": [
        "##### CALCULO DE LA RESISTENCIA CRITICA"
      ]
    },
    {
      "cell_type": "code",
      "execution_count": null,
      "metadata": {
        "id": "UgUzBFR8qkMk",
        "scrolled": true
      },
      "outputs": [],
      "source": [
        "Rc=... #Calcular la resistencia crítica para su circuito\n",
        "display(Rc)"
      ]
    }
  ],
  "metadata": {
    "colab": {
      "provenance": [],
      "include_colab_link": true
    },
    "kernelspec": {
      "display_name": "Python 3",
      "language": "python",
      "name": "python3"
    },
    "language_info": {
      "codemirror_mode": {
        "name": "ipython",
        "version": 3
      },
      "file_extension": ".py",
      "mimetype": "text/x-python",
      "name": "python",
      "nbconvert_exporter": "python",
      "pygments_lexer": "ipython3",
      "version": "3.8.3"
    }
  },
  "nbformat": 4,
  "nbformat_minor": 0
}